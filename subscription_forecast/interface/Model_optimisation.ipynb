{
 "cells": [
  {
   "cell_type": "markdown",
   "id": "asian-involvement",
   "metadata": {},
   "source": [
    "# Reche d'un modèle optimal"
   ]
  },
  {
   "cell_type": "markdown",
   "id": "unlimited-excerpt",
   "metadata": {},
   "source": [
    "Nous allons dans ce notebook décrire les différentes étapes de la séléction, de l'entrainement et de l'optimisation d'un modèle. Nous avons initiallement retenue un certain nombres de features suite à la phase d'analyse exploratoire dese donnés."
   ]
  },
  {
   "cell_type": "markdown",
   "id": "developed-promotion",
   "metadata": {},
   "source": [
    "### Chargement des scripts du projet et de la config"
   ]
  },
  {
   "cell_type": "code",
   "execution_count": 2,
   "id": "instrumental-sheet",
   "metadata": {},
   "outputs": [
    {
     "name": "stdout",
     "output_type": "stream",
     "text": [
      "Model train accuracy :  0.927\n",
      "Model accuracy :  0.894\n",
      "Model precision :  0.634\n",
      "Model recall =  0.221\n",
      "Confusion Matrix : \n",
      " [[ 232  819]\n",
      " [ 134 7843]]\n",
      "AUC precision recall curve is :  0.452\n"
     ]
    },
    {
     "data": {
      "image/png": "[encoded data removed]",
      "text/plain": [
       "<Figure size 576x504 with 1 Axes>"
      ]
     },
     "metadata": {
      "needs_background": "light"
     },
     "output_type": "display_data"
    },
    {
     "name": "stdout",
     "output_type": "stream",
     "text": [
      "Model accuracy :  0.823\n",
      "Model precision :  0.356\n",
      "Model recall =  0.644\n",
      "Confusion Matrix : \n",
      " [[ 677  374]\n",
      " [1227 6750]]\n"
     ]
    }
   ],
   "source": [
    "from subscription_forecast.domain import model_evaluation\n",
    "from subscription_forecast.domain.model_evaluation import ModelEvaluator\n",
    "from subscription_forecast.domain import feature_engineering\n",
    "from subscription_forecast.infrastructure import preprocessing\n",
    "from subscription_forecast.application import final_model_prediction\n",
    "\n",
    "import yaml"
   ]
  },
  {
   "cell_type": "code",
   "execution_count": 3,
   "id": "consolidated-gamma",
   "metadata": {},
   "outputs": [],
   "source": [
    "config_path =\"../config/config.yml\""
   ]
  },
  {
   "cell_type": "code",
   "execution_count": 4,
   "id": "legitimate-split",
   "metadata": {},
   "outputs": [],
   "source": [
    "with open(config_path, 'r') as file_in:\n",
    "    CONFIG = yaml.safe_load(file_in)"
   ]
  },
  {
   "cell_type": "code",
   "execution_count": 7,
   "id": "neither-roller",
   "metadata": {},
   "outputs": [],
   "source": [
    "TARGET = CONFIG['filters']['TARGET']\n",
    "features_to_drop = CONFIG['filters']['features_to_drop']"
   ]
  },
  {
   "cell_type": "markdown",
   "id": "convinced-manhattan",
   "metadata": {},
   "source": [
    "## Choix de critères d'évaluation"
   ]
  },
  {
   "cell_type": "markdown",
   "id": "coated-stuart",
   "metadata": {},
   "source": [
    "Premièrement il nous fallait décider de critères pour évaluer la performance de notre modèle. Il nous a paru important de faire attention aux nombre de <b> vrai positifs </b> et de <b> faux négatifs </b>, en d'autre termes: combien d'acheteurs potentiels ont été identifiés par le modèle, et combien on été raté. Il semble plus important de ne pas rater d'acheteurs, plutôt que d'appeler trop de clients.\n"
   ]
  },
  {
   "cell_type": "markdown",
   "id": "incorrect-duplicate",
   "metadata": {},
   "source": [
    "Pour celà, nous avons décider de s'intéresser à la <b> precision </b> et au <b> recall </b>. En particulier, nous nous interesseront à la courbe precision/recall. Pour comparer la performance de nos modèle, nous comparerons les valeurs de l'aire sous la courbe precision/rerall (<b> Precision/Recall AUC </b>)."
   ]
  },
  {
   "cell_type": "markdown",
   "id": "unable-winter",
   "metadata": {},
   "source": [
    "## Choix d'un algorythme d'apprentissage"
   ]
  },
  {
   "cell_type": "markdown",
   "id": "steady-storage",
   "metadata": {},
   "source": [
    "Nous voulions avant tout avoir un modèle de classification facilement explicable. Nous sommes donc parti sur 2 types d'algorithmes:     <br>\n",
    "- La Régression Logistique\n",
    "- Le Random Forest"
   ]
  },
  {
   "cell_type": "markdown",
   "id": "dressed-colony",
   "metadata": {},
   "source": [
    "A chaque étape du feature engineering, nous avons comparé la régression logistique et le random forest. Pour chaque configuration, les performances du random forest étaient bien meilleures. "
   ]
  },
  {
   "cell_type": "markdown",
   "id": "aquatic-import",
   "metadata": {},
   "source": [
    "### Regression logistique après feature engineering:"
   ]
  },
  {
   "cell_type": "code",
   "execution_count": 6,
   "id": "corporate-footwear",
   "metadata": {},
   "outputs": [],
   "source": [
    "from sklearn.pipeline import Pipeline\n",
    "from sklearn.ensemble import RandomForestClassifier\n",
    "from sklearn.linear_model import LogisticRegression\n",
    "from sklearn.model_selection import train_test_split"
   ]
  },
  {
   "cell_type": "markdown",
   "id": "greater-demand",
   "metadata": {},
   "source": [
    "#### preprocessing des datas:"
   ]
  },
  {
   "cell_type": "code",
   "execution_count": 12,
   "id": "ignored-stupid",
   "metadata": {},
   "outputs": [],
   "source": [
    "client_full = preprocessing.features_from(CONFIG['data']['data_path'],\n",
    "                                          CONFIG['data']['client_file_name'],\n",
    "                                          CONFIG['data']['socio_eco_file_name'],\n",
    "                                          features_to_drop)"
   ]
  },
  {
   "cell_type": "markdown",
   "id": "treated-security",
   "metadata": {},
   "source": [
    "#### préparation du train set et du test pour évaluer le modèle:"
   ]
  },
  {
   "cell_type": "code",
   "execution_count": 7,
   "id": "ethical-polish",
   "metadata": {},
   "outputs": [],
   "source": [
    "y = client_full[TARGET]\n",
    "y = y.replace({'Yes': 1, 'No': 0})\n",
    "x = client_full.drop(columns=TARGET)\n",
    "x_train, x_test, y_train, y_test = train_test_split(x, y, test_size=0.2, stratify=y, random_state=42)"
   ]
  },
  {
   "cell_type": "markdown",
   "id": "stone-rapid",
   "metadata": {},
   "source": [
    "#### fit du pipeline de régression logistique"
   ]
  },
  {
   "cell_type": "code",
   "execution_count": 27,
   "id": "negative-balloon",
   "metadata": {},
   "outputs": [],
   "source": [
    "MODEL_NAME = 'lr'\n",
    "\n",
    "final_pipeline = Pipeline(steps=[\n",
    "        ('transformer', feature_engineering.transformer),\n",
    "        (MODEL_NAME, LogisticRegression(C=1))])\n",
    "\n",
    "final_pipeline.fit(x_train, y_train);"
   ]
  },
  {
   "cell_type": "markdown",
   "id": "italian-sample",
   "metadata": {},
   "source": [
    "#### Evaluation des performances du modèle obtenu:"
   ]
  },
  {
   "cell_type": "code",
   "execution_count": 28,
   "id": "intense-credits",
   "metadata": {},
   "outputs": [
    {
     "name": "stdout",
     "output_type": "stream",
     "text": [
      "Model train accuracy :  0.893\n",
      "Model accuracy :  0.889\n",
      "Model precision :  0.574\n",
      "Model recall =  0.185\n",
      "Confusion Matrix : \n",
      " [[ 194  857]\n",
      " [ 144 7833]]\n",
      "AUC precision recall curve is :  0.407\n"
     ]
    },
    {
     "data": {
      "image/png": "[encoded data removed]",
      "text/plain": [
       "<Figure size 576x504 with 1 Axes>"
      ]
     },
     "metadata": {
      "needs_background": "light"
     },
     "output_type": "display_data"
    }
   ],
   "source": [
    "evaluator = ModelEvaluator(MODEL_NAME, final_pipeline)\n",
    "\n",
    "evaluator.print_metrics(x_test, y_test, x_train, y_train)\n",
    "evaluator.plot_precision_recall(x_test, y_test, x_train, y_train)"
   ]
  },
  {
   "cell_type": "markdown",
   "id": "noble-proposal",
   "metadata": {},
   "source": [
    "Nous obtenons ici 2 choses importantes: <br>\n",
    "- Les métriques de performance du modèle avec le seuil (threshold) naturel de 0.5\n",
    "- La courbe de precision recall liée à la variation du seuil\n",
    "<br>\n",
    "\n",
    "Nous reparleront plus tard de l'importance de toutes ces métriques, étudions maintenant le Random Forest."
   ]
  },
  {
   "cell_type": "markdown",
   "id": "colonial-jonathan",
   "metadata": {},
   "source": [
    "### Résultats avec le Random Forest"
   ]
  },
  {
   "cell_type": "code",
   "execution_count": 17,
   "id": "concerned-editing",
   "metadata": {},
   "outputs": [],
   "source": [
    "MODEL_NAME = 'rf'\n",
    "\n",
    "final_pipeline = Pipeline(steps=[\n",
    "        ('transformer', feature_engineering.transformer),\n",
    "        (MODEL_NAME, RandomForestClassifier(random_state=12, n_estimators=100, max_depth=8))])\n",
    "\n",
    "final_pipeline.fit(x_train, y_train);"
   ]
  },
  {
   "cell_type": "markdown",
   "id": "closing-trinity",
   "metadata": {},
   "source": [
    "#### Evaluation des performances du Random Forest"
   ]
  },
  {
   "cell_type": "code",
   "execution_count": 18,
   "id": "concrete-trainer",
   "metadata": {},
   "outputs": [
    {
     "name": "stdout",
     "output_type": "stream",
     "text": [
      "Model train accuracy :  0.902\n",
      "Model accuracy :  0.896\n",
      "Model precision :  0.702\n",
      "Model recall =  0.196\n",
      "Confusion Matrix : \n",
      " [[ 203  831]\n",
      " [  86 7716]]\n",
      "AUC precision recall curve is :  0.474\n"
     ]
    },
    {
     "data": {
      "image/png": "[encoded data removed]",
      "text/plain": [
       "<Figure size 576x504 with 1 Axes>"
      ]
     },
     "metadata": {
      "needs_background": "light"
     },
     "output_type": "display_data"
    }
   ],
   "source": [
    "evaluator = ModelEvaluator(MODEL_NAME, final_pipeline)\n",
    "\n",
    "evaluator.print_metrics(x_test, y_test, x_train, y_train)\n",
    "evaluator.plot_precision_recall(x_test, y_test, x_train, y_train)"
   ]
  },
  {
   "cell_type": "markdown",
   "id": "interracial-worship",
   "metadata": {},
   "source": [
    "Avec des hyper paramètres non optimisés, nous observons que le Random forest a une meilleure air sous la courbe (AUC) que la régression logistique, ce qui nous interesse particulièrement. De plus, lorsqu'on diminue le seuil de classification, la courbe de précision/recall \"tombe\" moins vite pour le Random Forest. <br> \n",
    "\n",
    "Celà signifie que d'une part, l'algorithme est plus performant, et que d'autre part, nous allons pouvoir faire varier le seuil de prédiction afin d'obtenir une balance precision/recall plus satisfaisante. <br>\n",
    "\n",
    "L'algorithme préférable semble être le Random Forest"
   ]
  },
  {
   "cell_type": "markdown",
   "id": "expressed-vaccine",
   "metadata": {},
   "source": [
    "## Choix des features"
   ]
  },
  {
   "cell_type": "markdown",
   "id": "acoustic-restriction",
   "metadata": {},
   "source": [
    "La phase d'EDA nous a permis de pré sélectionner les features à ne pas garder pour l'optimisation. <br>\n",
    "De plus Job_type nous n'utiliserons pas job_type. Cette variable semble relativement corréler à la cible, mais malgrès nos efforts nous n'avons pas réussi à augmenter les performances du modèle en l'ajoutant."
   ]
  },
  {
   "cell_type": "code",
   "execution_count": 42,
   "id": "independent-detector",
   "metadata": {},
   "outputs": [
    {
     "name": "stdout",
     "output_type": "stream",
     "text": [
      "features non utilisées:\n"
     ]
    },
    {
     "data": {
      "text/plain": [
       "['contact',\n",
       " 'duration_contact',\n",
       " 'nb_contact_last_campaign',\n",
       " 'has_default',\n",
       " 'job_type']"
      ]
     },
     "execution_count": 42,
     "metadata": {},
     "output_type": "execute_result"
    }
   ],
   "source": [
    "print(\"features non utilisées:\")\n",
    "CONFIG['filters']['features_to_drop']"
   ]
  },
  {
   "cell_type": "markdown",
   "id": "identical-green",
   "metadata": {},
   "source": [
    "De nombreuses combinaisons de features et de feature engineering ont été testé sur base de l'augmentation des performance des algorithmes. De plus, l'affichage de l'importance des feature (pour le RF) ou des coefficients (pour le RL) nous a permit d'évaluer leur impact."
   ]
  },
  {
   "cell_type": "markdown",
   "id": "framed-atlanta",
   "metadata": {},
   "source": [
    "#### exemple pour le random forest:"
   ]
  },
  {
   "cell_type": "code",
   "execution_count": 43,
   "id": "preceding-people",
   "metadata": {},
   "outputs": [
    {
     "name": "stdout",
     "output_type": "stream",
     "text": [
      "Feature importance: \n",
      " [0.189 0.057 0.107 0.044 0.019 0.004 0.006 0.002 0.005 0.008 0.002 0.162\n",
      " 0.074 0.182 0.036 0.003 0.036 0.064]\n"
     ]
    }
   ],
   "source": [
    "evaluator.get_feature_importance()"
   ]
  },
  {
   "cell_type": "markdown",
   "id": "surgical-personality",
   "metadata": {},
   "source": [
    "Dans l'ordre, les features retenues sont:\n",
    "- Result_last_campaign: 1 si succes, 0 pour toues les autre cas\n",
    "- Age: Nan imputé à la mediane, Robust scaler\n",
    "- Date: les mois on été extraits de la date puis target encodé\n",
    "- Balance et Nb_contact : Robust Scaler\n",
    "- Education et Status: One hot encoder\n",
    "- Socio_eco features: Robust scaler\n",
    "- housing_loan and perso_loan : encodé, 2 si les 2 loans sont true, 1 pour 1 loan, 0 sinon\n",
    "- day_last_contact: transformation 1/x\n"
   ]
  },
  {
   "cell_type": "markdown",
   "id": "distinguished-movement",
   "metadata": {},
   "source": [
    "L'utilisation de ces features nous a permis d'améliorer la performance pour les 2 algorithmes."
   ]
  },
  {
   "cell_type": "markdown",
   "id": "impressed-framing",
   "metadata": {},
   "source": [
    "## valeurs manquantes:\n"
   ]
  },
  {
   "cell_type": "markdown",
   "id": "downtown-bryan",
   "metadata": {},
   "source": [
    "Il est possible d'améliorer la prédiction en gardant que les lignes avec moins de 3 valeurs manquantes après le préprocessing:"
   ]
  },
  {
   "cell_type": "code",
   "execution_count": 13,
   "id": "novel-seminar",
   "metadata": {},
   "outputs": [
    {
     "name": "stdout",
     "output_type": "stream",
     "text": [
      "Before preprocessing the dataset contains date                             0\n",
      "age                              0\n",
      "status                        1128\n",
      "education                     1853\n",
      "balance                          0\n",
      "has_housing_loan                 0\n",
      "has_perso_loan                1354\n",
      "nb_contact                       0\n",
      "nb_day_last_contact              0\n",
      "result_last_campaign         36939\n",
      "subscription                     0\n",
      "employment_variation_rate        0\n",
      "idx_consumer_price               0\n",
      "idx_consumer_confidence          0\n",
      "dtype: int64 missing values\n",
      "After preprocessing the dataset contains date                             0\n",
      "age                              0\n",
      "status                         182\n",
      "education                     1787\n",
      "balance                          0\n",
      "has_housing_loan                 0\n",
      "has_perso_loan                 397\n",
      "nb_contact                       0\n",
      "nb_day_last_contact              0\n",
      "result_last_campaign         35989\n",
      "subscription                     0\n",
      "employment_variation_rate        0\n",
      "idx_consumer_price               0\n",
      "idx_consumer_confidence          0\n",
      "dtype: int64 missing values\n"
     ]
    }
   ],
   "source": [
    "client_full, rows_removed = preprocessing.drop_nan(client_full)"
   ]
  },
  {
   "cell_type": "code",
   "execution_count": 19,
   "id": "located-documentation",
   "metadata": {},
   "outputs": [
    {
     "name": "stdout",
     "output_type": "stream",
     "text": [
      "<class 'pandas.core.frame.DataFrame'>\n",
      "Int64Index: 957 entries, 1 to 45091\n",
      "Data columns (total 14 columns):\n",
      " #   Column                     Non-Null Count  Dtype  \n",
      "---  ------                     --------------  -----  \n",
      " 0   date                       957 non-null    object \n",
      " 1   age                        957 non-null    int64  \n",
      " 2   status                     11 non-null     object \n",
      " 3   education                  891 non-null    object \n",
      " 4   balance                    957 non-null    int64  \n",
      " 5   has_housing_loan           957 non-null    object \n",
      " 6   has_perso_loan             0 non-null      object \n",
      " 7   nb_contact                 957 non-null    int64  \n",
      " 8   nb_day_last_contact        957 non-null    int64  \n",
      " 9   result_last_campaign       7 non-null      object \n",
      " 10  subscription               957 non-null    object \n",
      " 11  employment_variation_rate  957 non-null    float64\n",
      " 12  idx_consumer_price         957 non-null    float64\n",
      " 13  idx_consumer_confidence    957 non-null    float64\n",
      "dtypes: float64(3), int64(4), object(7)\n",
      "memory usage: 112.1+ KB\n"
     ]
    }
   ],
   "source": [
    "rows_removed.info()"
   ]
  },
  {
   "cell_type": "code",
   "execution_count": null,
   "id": "international-volleyball",
   "metadata": {},
   "outputs": [],
   "source": []
  }
 ],
 "metadata": {
  "kernelspec": {
   "display_name": "Python 3",
   "language": "python",
   "name": "python3"
  },
  "language_info": {
   "codemirror_mode": {
    "name": "ipython",
    "version": 3
   },
   "file_extension": ".py",
   "mimetype": "text/x-python",
   "name": "python",
   "nbconvert_exporter": "python",
   "pygments_lexer": "ipython3",
   "version": "3.8.2"
  }
 },
 "nbformat": 4,
 "nbformat_minor": 5
}
