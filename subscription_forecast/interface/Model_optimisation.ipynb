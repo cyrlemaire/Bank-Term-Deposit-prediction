{
 "cells": [
  {
   "cell_type": "markdown",
   "metadata": {},
   "source": [
    "# Recherche d'un modèle optimal"
   ]
  },
  {
   "cell_type": "markdown",
   "metadata": {},
   "source": [
    "Nous allons dans ce notebook décrire les différentes étapes de la séléction, de l'entrainement et de l'optimisation d'un modèle. Nous avons initiallement retenu un certain nombre de features suite à la phase d'analyse exploratoire des données."
   ]
  },
  {
   "cell_type": "code",
   "execution_count": 7,
   "metadata": {},
   "outputs": [],
   "source": [
    "import warnings\n",
    "warnings.filterwarnings('ignore')\n",
    "\n",
    "import sys\n",
    "sys.path.append(\"/Users/cyrillemaire/Documents/Yotta/Project/FINAL_TEST/productsubscription_dc_cl_js\")\n",
    "# Attention, veuillez modifier le sys.path si vous souhaitez exécuter ce notebook."
   ]
  },
  {
   "cell_type": "markdown",
   "metadata": {},
   "source": [
    "### Chargement des scripts, du projet et de la config:"
   ]
  },
  {
   "cell_type": "code",
   "execution_count": 8,
   "metadata": {},
   "outputs": [],
   "source": [
    "import yaml\n",
    "import numpy as np\n",
    "\n",
    "from subscription_forecast.domain import model_evaluation\n",
    "from subscription_forecast.domain.model_evaluation import ModelEvaluator\n",
    "from subscription_forecast.domain import feature_engineering\n",
    "from subscription_forecast.infrastructure import preprocessing"
   ]
  },
  {
   "cell_type": "code",
   "execution_count": 9,
   "metadata": {},
   "outputs": [],
   "source": [
    "config_path =\"../config/config.yml\""
   ]
  },
  {
   "cell_type": "code",
   "execution_count": 10,
   "metadata": {},
   "outputs": [],
   "source": [
    "with open(config_path, 'r') as file_in:\n",
    "    CONFIG = yaml.safe_load(file_in)"
   ]
  },
  {
   "cell_type": "code",
   "execution_count": 11,
   "metadata": {},
   "outputs": [],
   "source": [
    "TARGET = CONFIG['filters']['TARGET']\n",
    "features_to_drop = CONFIG['filters']['features_to_drop']"
   ]
  },
  {
   "cell_type": "markdown",
   "metadata": {},
   "source": [
    "## Choix des critères d'évaluation"
   ]
  },
  {
   "cell_type": "markdown",
   "metadata": {},
   "source": [
    "Premièrement, il nous fallait décider de critères pour évaluer la performance de notre modèle. Il nous a paru important de faire attention au nombre de <b> vrais positifs </b> et de <b> faux négatifs </b>, en d'autres termes: combien d'acheteurs potentiels ont été identifiés par le modèle, et combien ont été raté. Il semble plus important de ne pas rater d'acheteurs, plutôt que d'appeler trop de clients.\n"
   ]
  },
  {
   "cell_type": "markdown",
   "metadata": {},
   "source": [
    "Pour cela, nous avons décider de nous intéresser à la <b> précision </b> et au <b> recall </b>. En particulier, nous nous intéresserons à la courbe precision/recall. Pour comparer la performance de nos modèles, nous comparerons les valeurs de l'aire sous la courbe precision/recall (<b> Precision/Recall AUC </b>)."
   ]
  },
  {
   "cell_type": "markdown",
   "metadata": {},
   "source": [
    "## Choix d'un algorithme d'apprentissage"
   ]
  },
  {
   "cell_type": "markdown",
   "metadata": {},
   "source": [
    "Nous voulions avant tout avoir un modèle de classification facilement explicable. Nous sommes donc partis sur 2 types d'algorithmes:     <br>\n",
    "- La Régression Logistique\n",
    "- Le Random Forest"
   ]
  },
  {
   "cell_type": "markdown",
   "metadata": {},
   "source": [
    "A chaque étape du feature engineering, nous avons comparé la régression logistique et le random forest. Pour chaque configuration, les performances du random forest étaient bien meilleures. "
   ]
  },
  {
   "cell_type": "markdown",
   "metadata": {},
   "source": [
    "### Regression logistique après feature engineering:"
   ]
  },
  {
   "cell_type": "code",
   "execution_count": 12,
   "metadata": {},
   "outputs": [],
   "source": [
    "from sklearn.pipeline import Pipeline\n",
    "from sklearn.ensemble import RandomForestClassifier\n",
    "from sklearn.linear_model import LogisticRegression\n",
    "from sklearn.model_selection import train_test_split"
   ]
  },
  {
   "cell_type": "markdown",
   "metadata": {},
   "source": [
    "#### Préprocessing des datas:"
   ]
  },
  {
   "cell_type": "code",
   "execution_count": 13,
   "metadata": {},
   "outputs": [],
   "source": [
    "client_full = preprocessing.features_from(CONFIG['training_data']['data_path'],\n",
    "                                          CONFIG['training_data']['client_file_name'],\n",
    "                                          CONFIG['training_data']['socio_eco_file_name'],\n",
    "                                          features_to_drop)"
   ]
  },
  {
   "cell_type": "markdown",
   "metadata": {},
   "source": [
    "#### Préparation du train set et du test pour évaluer le modèle:"
   ]
  },
  {
   "cell_type": "code",
   "execution_count": 15,
   "metadata": {},
   "outputs": [],
   "source": [
    "y = client_full[TARGET]\n",
    "y = y.replace({'Yes': 1, 'No': 0})\n",
    "x = client_full.drop(columns=TARGET)\n",
    "x_train, x_test, y_train, y_test = train_test_split(x, y, test_size=0.2, stratify=y, random_state=42)"
   ]
  },
  {
   "cell_type": "markdown",
   "metadata": {},
   "source": [
    "#### Fit du pipeline de régression logistique:"
   ]
  },
  {
   "cell_type": "code",
   "execution_count": 16,
   "metadata": {},
   "outputs": [],
   "source": [
    "MODEL_NAME = 'lr'\n",
    "\n",
    "final_pipeline = Pipeline(steps=[\n",
    "        ('transformer', feature_engineering.transformer),\n",
    "        (MODEL_NAME, LogisticRegression())])\n",
    "\n",
    "final_pipeline.fit(x_train, y_train);"
   ]
  },
  {
   "cell_type": "markdown",
   "metadata": {},
   "source": [
    "#### Evaluation des performances du modèle obtenu:"
   ]
  },
  {
   "cell_type": "code",
   "execution_count": 17,
   "metadata": {},
   "outputs": [
    {
     "name": "stdout",
     "output_type": "stream",
     "text": [
      "Model train accuracy :  0.894\n",
      "Model accuracy :  0.893\n",
      "Model precision :  0.624\n",
      "Model recall =  0.206\n",
      "Confusion Matrix : \n",
      " [[ 216  835]\n",
      " [ 130 7847]]\n",
      "AUC precision recall curve is :  0.431\n"
     ]
    },
    {
     "data": {
      "image/png": "[encoded data removed]",
      "text/plain": [
       "<Figure size 576x504 with 1 Axes>"
      ]
     },
     "metadata": {
      "needs_background": "light"
     },
     "output_type": "display_data"
    }
   ],
   "source": [
    "evaluator = ModelEvaluator(MODEL_NAME, final_pipeline)\n",
    "\n",
    "evaluator.print_metrics(x_test, y_test, x_train, y_train)\n",
    "evaluator.plot_precision_recall(x_test, y_test, x_train, y_train)"
   ]
  },
  {
   "cell_type": "markdown",
   "metadata": {},
   "source": [
    "Nous obtenons ici 2 choses importantes: <br>\n",
    "- Les métriques de performance du modèle avec le seuil (threshold) naturel de 0.5\n",
    "- La courbe de precision/recall liée à la variation du seuil\n",
    "<br>\n",
    "\n",
    "Nous reparleront plus tard de l'importance de toutes ces métriques, étudions maintenant le Random Forest."
   ]
  },
  {
   "cell_type": "markdown",
   "metadata": {},
   "source": [
    "### Résultats avec le Random Forest:"
   ]
  },
  {
   "cell_type": "code",
   "execution_count": 18,
   "metadata": {},
   "outputs": [],
   "source": [
    "MODEL_NAME = 'rf'\n",
    "\n",
    "final_pipeline = Pipeline(steps=[\n",
    "        ('transformer', feature_engineering.transformer),\n",
    "        (MODEL_NAME, RandomForestClassifier(random_state=12, n_estimators=100, max_depth=5))])\n",
    "\n",
    "final_pipeline.fit(x_train, y_train);"
   ]
  },
  {
   "cell_type": "markdown",
   "metadata": {},
   "source": [
    "#### Evaluation des performances du Random Forest:"
   ]
  },
  {
   "cell_type": "code",
   "execution_count": 19,
   "metadata": {},
   "outputs": [
    {
     "name": "stdout",
     "output_type": "stream",
     "text": [
      "Model train accuracy :  0.896\n",
      "Model accuracy :  0.895\n",
      "Model precision :  0.711\n",
      "Model recall =  0.167\n",
      "Confusion Matrix : \n",
      " [[ 175  876]\n",
      " [  71 7906]]\n",
      "AUC precision recall curve is :  0.444\n"
     ]
    },
    {
     "data": {
      "image/png": "[encoded data removed]",
      "text/plain": [
       "<Figure size 576x504 with 1 Axes>"
      ]
     },
     "metadata": {
      "needs_background": "light"
     },
     "output_type": "display_data"
    }
   ],
   "source": [
    "evaluator = ModelEvaluator(MODEL_NAME, final_pipeline)\n",
    "\n",
    "evaluator.print_metrics(x_test, y_test, x_train, y_train)\n",
    "evaluator.plot_precision_recall(x_test, y_test, x_train, y_train)"
   ]
  },
  {
   "cell_type": "markdown",
   "metadata": {},
   "source": [
    "Avec des hyper-paramètres non optimisés, nous observons que le Random Forest a une meilleure aire sous la courbe (AUC) que la régression logistique, ce qui nous interesse particulièrement. Il a également une précision plus élevée, mais un recall légèrement plus faible. <br> \n",
    "\n",
    "A première vue et sans optimisation, le Random Forest semble plus performant. De plus, en observant les courbes, on voit que dans les 2 cas, il y a un \"coude\" à partir duquel la courbe diminue fortement. Ce \"coude\" apparait pour des valeurs plus élevées pour le Random Forest. Cela signifie qu'en diminuant le seuil (courbe en orange), le rapport entre la precision et le recall sera plus intéressant pour le Random Forest. <br>\n",
    "\n",
    "L'algorithme préférable semble être le Random Forest."
   ]
  },
  {
   "cell_type": "markdown",
   "metadata": {},
   "source": [
    "## Choix des features"
   ]
  },
  {
   "cell_type": "markdown",
   "metadata": {},
   "source": [
    "La phase d'EDA nous a permis de pré-sélectionner les features à ne pas garder pour l'optimisation. <br>\n",
    "De plus, nous n'utiliserons pas job_type. Cette variable semble relativement corrélée à la cible, mais malgrè nos efforts nous n'avons pas réussi à augmenter les performances du modèle en l'ajoutant."
   ]
  },
  {
   "cell_type": "code",
   "execution_count": 20,
   "metadata": {},
   "outputs": [
    {
     "name": "stdout",
     "output_type": "stream",
     "text": [
      "features non utilisées:\n"
     ]
    },
    {
     "data": {
      "text/plain": [
       "['contact',\n",
       " 'duration_contact',\n",
       " 'nb_contact_last_campaign',\n",
       " 'has_default',\n",
       " 'job_type']"
      ]
     },
     "execution_count": 20,
     "metadata": {},
     "output_type": "execute_result"
    }
   ],
   "source": [
    "print(\"features non utilisées:\")\n",
    "CONFIG['filters']['features_to_drop']"
   ]
  },
  {
   "cell_type": "markdown",
   "metadata": {},
   "source": [
    "De nombreuses combinaisons de features et de feature engineering ont été testées sur base de l'augmentation des performance des algorithmes. De plus, l'affichage de l'importance des features (pour le RF) ou des coefficients (pour le RL) nous a permis d'évaluer leur impact."
   ]
  },
  {
   "cell_type": "markdown",
   "metadata": {},
   "source": [
    "#### Exemple pour le Random Forest:"
   ]
  },
  {
   "cell_type": "code",
   "execution_count": 21,
   "metadata": {},
   "outputs": [
    {
     "name": "stdout",
     "output_type": "stream",
     "text": [
      "Feature importance: \n",
      " [0.27  0.026 0.096 0.013 0.007 0.001 0.002 0.001 0.002 0.003 0.    0.205\n",
      " 0.072 0.212 0.041 0.048]\n"
     ]
    }
   ],
   "source": [
    "evaluator.get_feature_importance()"
   ]
  },
  {
   "cell_type": "markdown",
   "metadata": {},
   "source": [
    "Dans l'ordre, les features retenues sont:\n",
    "- Result_last_campaign: 1 si succes, 0 pour toues les autre cas\n",
    "- Age: Nan imputé à la mediane, Robust scaler\n",
    "- Date: les mois on été extraits de la date puis target encodés\n",
    "- Balance et Nb_contact : Robust Scaler\n",
    "- Education et Status: One hot encoder\n",
    "- Socio_eco features: Robust Scaler\n",
    "- housing_loan and perso_loan : encodé, 2 si les 2 loans sont true, 1 pour 1 loan, 0 sinon\n",
    "- day_last_contact: transformation 1/x\n"
   ]
  },
  {
   "cell_type": "markdown",
   "metadata": {},
   "source": [
    "L'utilisation de ces features nous a permis d'améliorer la performance pour les 2 algorithmes."
   ]
  },
  {
   "cell_type": "markdown",
   "metadata": {},
   "source": [
    "## Valeurs manquantes:\n"
   ]
  },
  {
   "cell_type": "markdown",
   "metadata": {},
   "source": [
    "Il est possible d'améliorer la prédiction en ne gardant que les observations avec moins de 3 valeurs manquantes après le préprocessing:"
   ]
  },
  {
   "cell_type": "code",
   "execution_count": 22,
   "metadata": {},
   "outputs": [
    {
     "name": "stdout",
     "output_type": "stream",
     "text": [
      "Before preprocessing the dataset contains 41274 missing values\n",
      "After preprocessing the dataset contains 38355 missing values\n"
     ]
    }
   ],
   "source": [
    "client_full, rows_removed = preprocessing.drop_nan(client_full)"
   ]
  },
  {
   "cell_type": "markdown",
   "metadata": {},
   "source": [
    "Afin d'avoir un modèle plus fonctionnel, nous avons néanmoins décidé de ne pas filtrer les valeurs manquantes afin d'être capable d'effectuer des prédictions sur n'importe quel client."
   ]
  },
  {
   "cell_type": "markdown",
   "metadata": {},
   "source": [
    "## Optimisation des hyperparamètres:"
   ]
  },
  {
   "cell_type": "markdown",
   "metadata": {},
   "source": [
    "Enfin, nous avons utilisé le module d'optimisation bayesienne Optuna pour finir d'améliorer notre modèle. Pour cela, nous avons testé 3 études d'optimisation, chacune cherchant à maximiser une métrique différente: <br>\n",
    "- Average Precision\n",
    "- Recall\n",
    "- F1 score <br>\n",
    "\n",
    "Nous avons essayé d'optimiser la Régression Logistique ainsi que le Random Forest. Ce dernier s'est une fois de plus retrouvé plus performant après optimisation.\n",
    "\n",
    "Les résultats les plus satisfaisants sont obtenus avec l'optimisation de l'\"average precision\". Cela reste cohérent avec notre objectif d'obtenir la meilleur courbe precision/recall.\n"
   ]
  },
  {
   "cell_type": "code",
   "execution_count": 23,
   "metadata": {},
   "outputs": [],
   "source": [
    " optimal_parameters = {'rf_n_estimators': 668,\n",
    "                          'rf_max_depth': 10,\n",
    "                          'rf_min_samples_leaf': 10,\n",
    "                          'rf_min_samples_split': 31,\n",
    "                          'rf_bootstrap': True,\n",
    "                          'rf_max_features': 'auto'}"
   ]
  },
  {
   "cell_type": "markdown",
   "metadata": {},
   "source": [
    "## Modèle optimisé:"
   ]
  },
  {
   "cell_type": "code",
   "execution_count": 24,
   "metadata": {},
   "outputs": [],
   "source": [
    "optimal_pipeline = Pipeline(steps=[('transformer', feature_engineering.transformer),\n",
    "                                 (MODEL_NAME, RandomForestClassifier(random_state=12,\n",
    "                                            max_depth=optimal_parameters['rf_max_depth'],\n",
    "                                            n_estimators=optimal_parameters['rf_n_estimators'],\n",
    "                                            min_samples_leaf=optimal_parameters['rf_min_samples_leaf'],\n",
    "                                            min_samples_split=optimal_parameters['rf_min_samples_split'],\n",
    "                                            bootstrap=optimal_parameters['rf_bootstrap'],\n",
    "                                            max_features=optimal_parameters['rf_max_features']))])\n",
    "\n",
    "optimal_pipeline.fit(x_train, y_train);"
   ]
  },
  {
   "cell_type": "code",
   "execution_count": 25,
   "metadata": {
    "scrolled": false
   },
   "outputs": [
    {
     "name": "stdout",
     "output_type": "stream",
     "text": [
      "Model train accuracy :  0.901\n",
      "Model accuracy :  0.896\n",
      "Model precision :  0.679\n",
      "Model recall =  0.206\n",
      "Confusion Matrix : \n",
      " [[ 216  835]\n",
      " [ 102 7875]]\n",
      "AUC precision recall curve is :  0.456\n"
     ]
    },
    {
     "data": {
      "image/png": "[encoded data removed]",
      "text/plain": [
       "<Figure size 576x504 with 1 Axes>"
      ]
     },
     "metadata": {
      "needs_background": "light"
     },
     "output_type": "display_data"
    }
   ],
   "source": [
    "opt_evaluator = ModelEvaluator(MODEL_NAME, optimal_pipeline)\n",
    "\n",
    "opt_evaluator.print_metrics(x_test, y_test, x_train, y_train)\n",
    "opt_evaluator.plot_precision_recall(x_test, y_test, x_train, y_train)"
   ]
  },
  {
   "cell_type": "markdown",
   "metadata": {},
   "source": [
    "Bien que la précision diminue légèrement, l'aire sous la courbe ainsi que le recall augmentent. De plus, la courbe descend \"moins vite\" quand le seuil diminue, ce qui est très intéressant."
   ]
  },
  {
   "cell_type": "markdown",
   "metadata": {},
   "source": [
    "### Choix du seuil:"
   ]
  },
  {
   "cell_type": "code",
   "execution_count": 26,
   "metadata": {},
   "outputs": [],
   "source": [
    "from sklearn.metrics import recall_score,\\\n",
    "    precision_score, \\\n",
    "    confusion_matrix, \\\n",
    "    accuracy_score"
   ]
  },
  {
   "cell_type": "markdown",
   "metadata": {},
   "source": [
    "Avec le seuil par défaut de 0.5, la précision est de 0.68 et le recall de 0.192. On observe néanmoins sur la courbe qu'on peut augmenter grandement le recall sans trop perdre en précision en ramenant le seuil vers 0.2"
   ]
  },
  {
   "cell_type": "code",
   "execution_count": 27,
   "metadata": {},
   "outputs": [],
   "source": [
    "THRESHOLD = 0.2"
   ]
  },
  {
   "cell_type": "code",
   "execution_count": 28,
   "metadata": {},
   "outputs": [],
   "source": [
    "engineered_data = final_pipeline.steps[0][1].transform(x_test)\n",
    "predictions_proba = final_pipeline.steps[1][1].predict_proba(engineered_data)"
   ]
  },
  {
   "cell_type": "code",
   "execution_count": 29,
   "metadata": {},
   "outputs": [],
   "source": [
    "predictions = np.where(predictions_proba[:, 1] >= THRESHOLD, 1, 0)"
   ]
  },
  {
   "cell_type": "code",
   "execution_count": 30,
   "metadata": {},
   "outputs": [
    {
     "name": "stdout",
     "output_type": "stream",
     "text": [
      "Model accuracy :  0.869\n",
      "Model precision :  0.452\n",
      "Model recall =  0.568\n",
      "Confusion Matrix : \n",
      " [[ 597  454]\n",
      " [ 725 7252]]\n"
     ]
    }
   ],
   "source": [
    "print(\"Model accuracy : \", np.around(accuracy_score(y_test, predictions), decimals=3))\n",
    "print(\"Model precision : \", np.around(precision_score(y_test, predictions, average=\"binary\", pos_label=1), decimals=3))\n",
    "print(\"Model recall = \", np.around(recall_score(y_test, predictions, average=\"binary\", pos_label=1), decimals=3))\n",
    "print(\"Confusion Matrix : \\n\", confusion_matrix(y_test, predictions, labels=[1, 0]))"
   ]
  },
  {
   "cell_type": "markdown",
   "metadata": {},
   "source": [
    "Avec un seuil de 0.2, on obtient une précision de 0.452 pour un recall de 0.568. Intéressons nous à la matrice de confusion :\n",
    "En terme de clients appelés, cela signifie que: <br>\n",
    "- Sur un total de 1051 clients qui ont souscrit, 597 ont été appelés (contre 216 avec le seuil de 0.5), 454 n'ont pas été appelés.\n",
    "- 725 client qui ne souscrivent pas n'ont pas été appelés.\n",
    "- 7252 clients qui ne souscrivent pas n'ont pas été appelés. <br>\n",
    " "
   ]
  }
 ],
 "metadata": {
  "kernelspec": {
   "display_name": "Python 3",
   "language": "python",
   "name": "python3"
  },
  "language_info": {
   "codemirror_mode": {
    "name": "ipython",
    "version": 3
   },
   "file_extension": ".py",
   "mimetype": "text/x-python",
   "name": "python",
   "nbconvert_exporter": "python",
   "pygments_lexer": "ipython3",
   "version": "3.8.2"
  }
 },
 "nbformat": 4,
 "nbformat_minor": 5
}
