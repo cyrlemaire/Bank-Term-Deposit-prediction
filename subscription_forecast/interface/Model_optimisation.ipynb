{
 "cells": [
  {
   "cell_type": "markdown",
   "id": "asian-involvement",
   "metadata": {},
   "source": [
    "# Reche d'un modèle optimal"
   ]
  },
  {
   "cell_type": "markdown",
   "id": "unlimited-excerpt",
   "metadata": {},
   "source": [
    "Nous allons dans ce notebook décrire les différentes étapes de la séléction, de l'entrainement et de l'optimisation d'un modèle. Nous avons initiallement retenue un certain nombres de features suite à la phase d'analyse exploratoire dese donnés."
   ]
  },
  {
   "cell_type": "markdown",
   "id": "developed-promotion",
   "metadata": {},
   "source": [
    "### Chargement des scripts du projet et de la config"
   ]
  },
  {
   "cell_type": "code",
   "execution_count": 51,
   "id": "instrumental-sheet",
   "metadata": {},
   "outputs": [],
   "source": [
    "import yaml\n",
    "import numpy as np\n",
    "\n",
    "from subscription_forecast.domain import model_evaluation\n",
    "from subscription_forecast.domain.model_evaluation import ModelEvaluator\n",
    "from subscription_forecast.domain import feature_engineering\n",
    "from subscription_forecast.infrastructure import preprocessing"
   ]
  },
  {
   "cell_type": "code",
   "execution_count": 2,
   "id": "consolidated-gamma",
   "metadata": {},
   "outputs": [],
   "source": [
    "config_path =\"../config/config.yml\""
   ]
  },
  {
   "cell_type": "code",
   "execution_count": 3,
   "id": "legitimate-split",
   "metadata": {},
   "outputs": [],
   "source": [
    "with open(config_path, 'r') as file_in:\n",
    "    CONFIG = yaml.safe_load(file_in)"
   ]
  },
  {
   "cell_type": "code",
   "execution_count": 4,
   "id": "neither-roller",
   "metadata": {},
   "outputs": [],
   "source": [
    "TARGET = CONFIG['filters']['TARGET']\n",
    "features_to_drop = CONFIG['filters']['features_to_drop']"
   ]
  },
  {
   "cell_type": "markdown",
   "id": "convinced-manhattan",
   "metadata": {},
   "source": [
    "## Choix de critères d'évaluation"
   ]
  },
  {
   "cell_type": "markdown",
   "id": "coated-stuart",
   "metadata": {},
   "source": [
    "Premièrement il nous fallait décider de critères pour évaluer la performance de notre modèle. Il nous a paru important de faire attention aux nombre de <b> vrai positifs </b> et de <b> faux négatifs </b>, en d'autre termes: combien d'acheteurs potentiels ont été identifiés par le modèle, et combien on été raté. Il semble plus important de ne pas rater d'acheteurs, plutôt que d'appeler trop de clients.\n"
   ]
  },
  {
   "cell_type": "markdown",
   "id": "incorrect-duplicate",
   "metadata": {},
   "source": [
    "Pour celà, nous avons décider de s'intéresser à la <b> precision </b> et au <b> recall </b>. En particulier, nous nous interesseront à la courbe precision/recall. Pour comparer la performance de nos modèle, nous comparerons les valeurs de l'aire sous la courbe precision/rerall (<b> Precision/Recall AUC </b>)."
   ]
  },
  {
   "cell_type": "markdown",
   "id": "unable-winter",
   "metadata": {},
   "source": [
    "## Choix d'un algorythme d'apprentissage"
   ]
  },
  {
   "cell_type": "markdown",
   "id": "steady-storage",
   "metadata": {},
   "source": [
    "Nous voulions avant tout avoir un modèle de classification facilement explicable. Nous sommes donc parti sur 2 types d'algorithmes:     <br>\n",
    "- La Régression Logistique\n",
    "- Le Random Forest"
   ]
  },
  {
   "cell_type": "markdown",
   "id": "dressed-colony",
   "metadata": {},
   "source": [
    "A chaque étape du feature engineering, nous avons comparé la régression logistique et le random forest. Pour chaque configuration, les performances du random forest étaient bien meilleures. "
   ]
  },
  {
   "cell_type": "markdown",
   "id": "aquatic-import",
   "metadata": {},
   "source": [
    "### Regression logistique après feature engineering:"
   ]
  },
  {
   "cell_type": "code",
   "execution_count": 5,
   "id": "corporate-footwear",
   "metadata": {},
   "outputs": [],
   "source": [
    "from sklearn.pipeline import Pipeline\n",
    "from sklearn.ensemble import RandomForestClassifier\n",
    "from sklearn.linear_model import LogisticRegression\n",
    "from sklearn.model_selection import train_test_split"
   ]
  },
  {
   "cell_type": "markdown",
   "id": "greater-demand",
   "metadata": {},
   "source": [
    "#### Preprocessing des datas:"
   ]
  },
  {
   "cell_type": "code",
   "execution_count": 6,
   "id": "ignored-stupid",
   "metadata": {},
   "outputs": [],
   "source": [
    "client_full = preprocessing.features_from(CONFIG['data']['data_path'],\n",
    "                                          CONFIG['data']['client_file_name'],\n",
    "                                          CONFIG['data']['socio_eco_file_name'],\n",
    "                                          features_to_drop)"
   ]
  },
  {
   "cell_type": "markdown",
   "id": "treated-security",
   "metadata": {},
   "source": [
    "#### Préparation du train set et du test pour évaluer le modèle:"
   ]
  },
  {
   "cell_type": "code",
   "execution_count": 7,
   "id": "ethical-polish",
   "metadata": {},
   "outputs": [],
   "source": [
    "y = client_full[TARGET]\n",
    "y = y.replace({'Yes': 1, 'No': 0})\n",
    "x = client_full.drop(columns=TARGET)\n",
    "x_train, x_test, y_train, y_test = train_test_split(x, y, test_size=0.2, stratify=y, random_state=42)"
   ]
  },
  {
   "cell_type": "markdown",
   "id": "stone-rapid",
   "metadata": {},
   "source": [
    "#### Fit du pipeline de régression logistique"
   ]
  },
  {
   "cell_type": "code",
   "execution_count": 22,
   "id": "negative-balloon",
   "metadata": {},
   "outputs": [],
   "source": [
    "MODEL_NAME = 'lr'\n",
    "\n",
    "final_pipeline = Pipeline(steps=[\n",
    "        ('transformer', feature_engineering.transformer),\n",
    "        (MODEL_NAME, LogisticRegression())])\n",
    "\n",
    "final_pipeline.fit(x_train, y_train);"
   ]
  },
  {
   "cell_type": "markdown",
   "id": "italian-sample",
   "metadata": {},
   "source": [
    "#### Evaluation des performances du modèle obtenu:"
   ]
  },
  {
   "cell_type": "code",
   "execution_count": 23,
   "id": "intense-credits",
   "metadata": {},
   "outputs": [
    {
     "name": "stdout",
     "output_type": "stream",
     "text": [
      "Model train accuracy :  0.893\n",
      "Model accuracy :  0.889\n",
      "Model precision :  0.574\n",
      "Model recall =  0.185\n",
      "Confusion Matrix : \n",
      " [[ 194  857]\n",
      " [ 144 7833]]\n",
      "AUC precision recall curve is :  0.407\n"
     ]
    },
    {
     "data": {
      "image/png": "[encoded data removed]",
      "text/plain": [
       "<Figure size 576x504 with 1 Axes>"
      ]
     },
     "metadata": {
      "needs_background": "light"
     },
     "output_type": "display_data"
    }
   ],
   "source": [
    "evaluator = ModelEvaluator(MODEL_NAME, final_pipeline)\n",
    "\n",
    "evaluator.print_metrics(x_test, y_test, x_train, y_train)\n",
    "evaluator.plot_precision_recall(x_test, y_test, x_train, y_train)"
   ]
  },
  {
   "cell_type": "markdown",
   "id": "noble-proposal",
   "metadata": {},
   "source": [
    "Nous obtenons ici 2 choses importantes: <br>\n",
    "- Les métriques de performance du modèle avec le seuil (threshold) naturel de 0.5\n",
    "- La courbe de precision recall liée à la variation du seuil\n",
    "<br>\n",
    "\n",
    "Nous reparleront plus tard de l'importance de toutes ces métriques, étudions maintenant le Random Forest."
   ]
  },
  {
   "cell_type": "markdown",
   "id": "colonial-jonathan",
   "metadata": {},
   "source": [
    "### Résultats avec le Random Forest"
   ]
  },
  {
   "cell_type": "code",
   "execution_count": 28,
   "id": "concerned-editing",
   "metadata": {},
   "outputs": [],
   "source": [
    "MODEL_NAME = 'rf'\n",
    "\n",
    "final_pipeline = Pipeline(steps=[\n",
    "        ('transformer', feature_engineering.transformer),\n",
    "        (MODEL_NAME, RandomForestClassifier(random_state=12, n_estimators=100, max_depth=5))])\n",
    "\n",
    "final_pipeline.fit(x_train, y_train);"
   ]
  },
  {
   "cell_type": "markdown",
   "id": "closing-trinity",
   "metadata": {},
   "source": [
    "#### Evaluation des performances du Random Forest"
   ]
  },
  {
   "cell_type": "code",
   "execution_count": 29,
   "id": "concrete-trainer",
   "metadata": {},
   "outputs": [
    {
     "name": "stdout",
     "output_type": "stream",
     "text": [
      "Model train accuracy :  0.896\n",
      "Model accuracy :  0.895\n",
      "Model precision :  0.714\n",
      "Model recall =  0.167\n",
      "Confusion Matrix : \n",
      " [[ 175  876]\n",
      " [  70 7907]]\n",
      "AUC precision recall curve is :  0.449\n"
     ]
    },
    {
     "data": {
      "image/png": "[encoded data removed]",
      "text/plain": [
       "<Figure size 576x504 with 1 Axes>"
      ]
     },
     "metadata": {
      "needs_background": "light"
     },
     "output_type": "display_data"
    }
   ],
   "source": [
    "evaluator = ModelEvaluator(MODEL_NAME, final_pipeline)\n",
    "\n",
    "evaluator.print_metrics(x_test, y_test, x_train, y_train)\n",
    "evaluator.plot_precision_recall(x_test, y_test, x_train, y_train)"
   ]
  },
  {
   "cell_type": "markdown",
   "id": "interracial-worship",
   "metadata": {},
   "source": [
    "Avec des hyper paramètres non optimisés, nous observons que le Random forest a une meilleure air sous la courbe (AUC) que la régression logistique, ce qui nous interesse particulièrement. Il a égallement une précision plus élevée, mais un recall légèremnt plus faible. <br> \n",
    "\n",
    "A première vue et sans optimisation, le random forest semble plus performant. De plus, en observant les courbes, on voit que dans les 2 cas, il y a un \"coude\" à partir du quel la couurbe diminue fortement. Ce \"coude\" apparait pour des valeurs plus élevés pour le Random Forest. Celà signifie qu'en diminueant le seuil (courbe en orange), le rapport entre la precision et le recall sera plus interessant pour le Random Forest. <br>\n",
    "\n",
    "L'algorithme préférable semble être le Random Forest."
   ]
  },
  {
   "cell_type": "markdown",
   "id": "expressed-vaccine",
   "metadata": {},
   "source": [
    "## Choix des features"
   ]
  },
  {
   "cell_type": "markdown",
   "id": "acoustic-restriction",
   "metadata": {},
   "source": [
    "La phase d'EDA nous a permis de pré sélectionner les features à ne pas garder pour l'optimisation. <br>\n",
    "De plus Job_type nous n'utiliserons pas job_type. Cette variable semble relativement corréler à la cible, mais malgrès nos efforts nous n'avons pas réussi à augmenter les performances du modèle en l'ajoutant."
   ]
  },
  {
   "cell_type": "code",
   "execution_count": 30,
   "id": "independent-detector",
   "metadata": {},
   "outputs": [
    {
     "name": "stdout",
     "output_type": "stream",
     "text": [
      "features non utilisées:\n"
     ]
    },
    {
     "data": {
      "text/plain": [
       "['contact',\n",
       " 'duration_contact',\n",
       " 'nb_contact_last_campaign',\n",
       " 'has_default',\n",
       " 'job_type']"
      ]
     },
     "execution_count": 30,
     "metadata": {},
     "output_type": "execute_result"
    }
   ],
   "source": [
    "print(\"features non utilisées:\")\n",
    "CONFIG['filters']['features_to_drop']"
   ]
  },
  {
   "cell_type": "markdown",
   "id": "identical-green",
   "metadata": {},
   "source": [
    "De nombreuses combinaisons de features et de feature engineering ont été testé sur base de l'augmentation des performance des algorithmes. De plus, l'affichage de l'importance des feature (pour le RF) ou des coefficients (pour le RL) nous a permit d'évaluer leur impact."
   ]
  },
  {
   "cell_type": "markdown",
   "id": "framed-atlanta",
   "metadata": {},
   "source": [
    "#### Exemple pour le random forest:"
   ]
  },
  {
   "cell_type": "code",
   "execution_count": 31,
   "id": "preceding-people",
   "metadata": {},
   "outputs": [
    {
     "name": "stdout",
     "output_type": "stream",
     "text": [
      "Feature importance: \n",
      " [0.24  0.033 0.117 0.013 0.008 0.001 0.002 0.    0.002 0.003 0.    0.172\n",
      " 0.071 0.208 0.033 0.001 0.042 0.054]\n"
     ]
    }
   ],
   "source": [
    "evaluator.get_feature_importance()"
   ]
  },
  {
   "cell_type": "markdown",
   "id": "surgical-personality",
   "metadata": {},
   "source": [
    "Dans l'ordre, les features retenues sont:\n",
    "- Result_last_campaign: 1 si succes, 0 pour toues les autre cas\n",
    "- Age: Nan imputé à la mediane, Robust scaler\n",
    "- Date: les mois on été extraits de la date puis target encodé\n",
    "- Balance et Nb_contact : Robust Scaler\n",
    "- Education et Status: One hot encoder\n",
    "- Socio_eco features: Robust scaler\n",
    "- housing_loan and perso_loan : encodé, 2 si les 2 loans sont true, 1 pour 1 loan, 0 sinon\n",
    "- day_last_contact: transformation 1/x\n"
   ]
  },
  {
   "cell_type": "markdown",
   "id": "distinguished-movement",
   "metadata": {},
   "source": [
    "L'utilisation de ces features nous a permis d'améliorer la performance pour les 2 algorithmes."
   ]
  },
  {
   "cell_type": "markdown",
   "id": "impressed-framing",
   "metadata": {},
   "source": [
    "## Valeurs manquantes:\n"
   ]
  },
  {
   "cell_type": "markdown",
   "id": "downtown-bryan",
   "metadata": {},
   "source": [
    "Il est possible d'améliorer la prédiction en ne gardant que les observations avec moins de 3 valeurs manquantes après le préprocessing:"
   ]
  },
  {
   "cell_type": "code",
   "execution_count": 13,
   "id": "novel-seminar",
   "metadata": {},
   "outputs": [
    {
     "name": "stdout",
     "output_type": "stream",
     "text": [
      "Before preprocessing the dataset contains date                             0\n",
      "age                              0\n",
      "status                        1128\n",
      "education                     1853\n",
      "balance                          0\n",
      "has_housing_loan                 0\n",
      "has_perso_loan                1354\n",
      "nb_contact                       0\n",
      "nb_day_last_contact              0\n",
      "result_last_campaign         36939\n",
      "subscription                     0\n",
      "employment_variation_rate        0\n",
      "idx_consumer_price               0\n",
      "idx_consumer_confidence          0\n",
      "dtype: int64 missing values\n",
      "After preprocessing the dataset contains date                             0\n",
      "age                              0\n",
      "status                         182\n",
      "education                     1787\n",
      "balance                          0\n",
      "has_housing_loan                 0\n",
      "has_perso_loan                 397\n",
      "nb_contact                       0\n",
      "nb_day_last_contact              0\n",
      "result_last_campaign         35989\n",
      "subscription                     0\n",
      "employment_variation_rate        0\n",
      "idx_consumer_price               0\n",
      "idx_consumer_confidence          0\n",
      "dtype: int64 missing values\n"
     ]
    }
   ],
   "source": [
    "client_full, rows_removed = preprocessing.drop_nan(client_full)"
   ]
  },
  {
   "cell_type": "markdown",
   "id": "compatible-refund",
   "metadata": {},
   "source": [
    "Afin d'avoir un modèle plus fontionel, nous avons néanmoins décidé de ne pas filtrer les valeurs manquante afin d'être capable d'effectuer des prédictions sur n'importe quel client."
   ]
  },
  {
   "cell_type": "markdown",
   "id": "educated-delhi",
   "metadata": {},
   "source": [
    "## Optimisation des hyperparamètres:"
   ]
  },
  {
   "cell_type": "markdown",
   "id": "efficient-korea",
   "metadata": {},
   "source": [
    "Enfin, nous avons utilisé le module d'optimisation bayesienne Optuna pour trouver finnir d'améliorer notree modèle. Pour cela, nous avons testé 3 études d'optimisations, chacune cherchant à maximiser une métrique différente: <br>\n",
    "- Average Precision\n",
    "- Recall\n",
    "- f1 score <br>\n",
    "\n",
    "Nous avons essayé d'optimiser la regression logistique ainsi que le random forest. Ce dernier s'est une fois de plus retrouvé plus performant après optimisation.\n",
    "\n",
    "les résultats les plus satisfaisant sont obtenues avec l'optimisation de l'\"average precision\". Cela reste cohérent avec notre objectif d'obtenir la meilleur courbe precision/recall.\n"
   ]
  },
  {
   "cell_type": "code",
   "execution_count": 32,
   "id": "competent-taiwan",
   "metadata": {},
   "outputs": [],
   "source": [
    " optimal_parameters = {'rf_n_estimators': 668,\n",
    "                          'rf_max_depth': 10,\n",
    "                          'rf_min_samples_leaf': 10,\n",
    "                          'rf_min_samples_split': 31,\n",
    "                          'rf_bootstrap': True,\n",
    "                          'rf_max_features': 'auto'}"
   ]
  },
  {
   "cell_type": "markdown",
   "id": "desperate-budget",
   "metadata": {},
   "source": [
    "## Modèle optimisé:"
   ]
  },
  {
   "cell_type": "code",
   "execution_count": 57,
   "id": "superior-thesaurus",
   "metadata": {},
   "outputs": [],
   "source": [
    "optimal_pipeline = Pipeline(steps=[('transformer', feature_engineering.transformer),\n",
    "                                 (MODEL_NAME, RandomForestClassifier(random_state=12,\n",
    "                                            max_depth=optimal_parameters['rf_max_depth'],\n",
    "                                            n_estimators=optimal_parameters['rf_n_estimators'],\n",
    "                                            min_samples_leaf=optimal_parameters['rf_min_samples_leaf'],\n",
    "                                            min_samples_split=optimal_parameters['rf_min_samples_split'],\n",
    "                                            bootstrap=optimal_parameters['rf_bootstrap'],\n",
    "                                            max_features=optimal_parameters['rf_max_features']))])\n",
    "\n",
    "optimal_pipeline.fit(x_train, y_train);"
   ]
  },
  {
   "cell_type": "code",
   "execution_count": 58,
   "id": "endless-illustration",
   "metadata": {},
   "outputs": [
    {
     "name": "stdout",
     "output_type": "stream",
     "text": [
      "Model train accuracy :  0.901\n",
      "Model accuracy :  0.895\n",
      "Model precision :  0.68\n",
      "Model recall =  0.192\n",
      "Confusion Matrix : \n",
      " [[ 202  849]\n",
      " [  95 7882]]\n",
      "AUC precision recall curve is :  0.456\n"
     ]
    },
    {
     "data": {
      "image/png": "[encoded data removed]",
      "text/plain": [
       "<Figure size 576x504 with 1 Axes>"
      ]
     },
     "metadata": {
      "needs_background": "light"
     },
     "output_type": "display_data"
    }
   ],
   "source": [
    "opt_evaluator = ModelEvaluator(MODEL_NAME, optimal_pipeline)\n",
    "\n",
    "opt_evaluator.print_metrics(x_test, y_test, x_train, y_train)\n",
    "opt_evaluator.plot_precision_recall(x_test, y_test, x_train, y_train)"
   ]
  },
  {
   "cell_type": "markdown",
   "id": "waiting-hazard",
   "metadata": {},
   "source": [
    "Bien que la précision diminue légèrement, l'aire sous la courbe ainsi que le recall augmente. De plus, la courbe descent \"moins vite\" quand le seuil diminue, ce qui est très intéressant."
   ]
  },
  {
   "cell_type": "markdown",
   "id": "extreme-hotel",
   "metadata": {},
   "source": [
    "### Choix du seuil:"
   ]
  },
  {
   "cell_type": "code",
   "execution_count": 63,
   "id": "logical-insert",
   "metadata": {},
   "outputs": [],
   "source": [
    "from sklearn.metrics import recall_score,\\\n",
    "    precision_score, \\\n",
    "    confusion_matrix, \\\n",
    "    accuracy_score"
   ]
  },
  {
   "cell_type": "markdown",
   "id": "alive-black",
   "metadata": {},
   "source": [
    "Avec le seuil par défaut de 0.5, la precision est de 0.68 et le recall de 0.192. On observe néanmoins sur la courbe qu'on peut augmenter grandement le recall sans trop perdre en précision en ramenant le seuil vers 0.2"
   ]
  },
  {
   "cell_type": "code",
   "execution_count": 56,
   "id": "marine-prediction",
   "metadata": {},
   "outputs": [],
   "source": [
    "THRESHOLD = 0.2"
   ]
  },
  {
   "cell_type": "code",
   "execution_count": 59,
   "id": "subjective-reynolds",
   "metadata": {},
   "outputs": [],
   "source": [
    "engineered_data = final_pipeline.steps[0][1].transform(x_test)\n",
    "predictions_proba = final_pipeline.steps[1][1].predict_proba(engineered_data)"
   ]
  },
  {
   "cell_type": "code",
   "execution_count": 60,
   "id": "spread-industry",
   "metadata": {},
   "outputs": [],
   "source": [
    "predictions = np.where(predictions_proba[:, 1] >= THRESHOLD, 1, 0)"
   ]
  },
  {
   "cell_type": "code",
   "execution_count": 64,
   "id": "frequent-baking",
   "metadata": {},
   "outputs": [
    {
     "name": "stdout",
     "output_type": "stream",
     "text": [
      "Model accuracy :  0.865\n",
      "Model precision :  0.44\n",
      "Model recall =  0.592\n",
      "Confusion Matrix : \n",
      " [[ 622  429]\n",
      " [ 791 7186]]\n"
     ]
    }
   ],
   "source": [
    "print(\"Model accuracy : \", np.around(accuracy_score(y, predictions), decimals=3))\n",
    "print(\"Model precision : \", np.around(precision_score(y, predictions, average=\"binary\", pos_label=1), decimals=3))\n",
    "print(\"Model recall = \", np.around(recall_score(y, predictions, average=\"binary\", pos_label=1), decimals=3))\n",
    "print(\"Confusion Matrix : \\n\", confusion_matrix(y, predictions, labels=[1, 0]))"
   ]
  },
  {
   "cell_type": "markdown",
   "id": "narrative-victim",
   "metadata": {},
   "source": [
    "Avec un seuil de 0.2, on obtient une precision de 0.44 pour un recall de 0.592. Intéressont nous à la matrice de confusion\n",
    "En terme de clients appelés, celà signifie que: <br>\n",
    "- Sur un de total dee 1051 clients qui ont souscrits, 622 ont été appelé (202 avec le seuil de 0.5), 429 n'ont pas été appelés.\n",
    "- 791 client qui ne souscrivent pas n'ont pas été appelés.\n",
    "- 7186 clients qui ne souscrivent pas n'ont pas été appelés. <br>\n",
    " "
   ]
  }
 ],
 "metadata": {
  "kernelspec": {
   "display_name": "Python 3",
   "language": "python",
   "name": "python3"
  },
  "language_info": {
   "codemirror_mode": {
    "name": "ipython",
    "version": 3
   },
   "file_extension": ".py",
   "mimetype": "text/x-python",
   "name": "python",
   "nbconvert_exporter": "python",
   "pygments_lexer": "ipython3",
   "version": "3.8.2"
  }
 },
 "nbformat": 4,
 "nbformat_minor": 5
}
