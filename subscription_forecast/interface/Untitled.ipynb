{
 "cells": [
  {
   "cell_type": "code",
   "execution_count": 1,
   "id": "painted-riding",
   "metadata": {},
   "outputs": [],
   "source": [
    "from subscription_forecast.config.config import read_yaml"
   ]
  },
  {
   "cell_type": "code",
   "execution_count": 8,
   "id": "outer-burlington",
   "metadata": {},
   "outputs": [],
   "source": [
    "import subscription_forecast.application"
   ]
  },
  {
   "cell_type": "code",
   "execution_count": 7,
   "id": "single-leonard",
   "metadata": {},
   "outputs": [
    {
     "name": "stdout",
     "output_type": "stream",
     "text": [
      "ALL nans :  date                            0\n",
      "age                             0\n",
      "job_type                      286\n",
      "status                       1128\n",
      "education                    1853\n",
      "balance                         0\n",
      "has_housing_loan                0\n",
      "has_perso_loan               1354\n",
      "nb_contact                      0\n",
      "nb_day_last_contact             0\n",
      "subscription                    0\n",
      "employment_variation_rate       0\n",
      "idx_consumer_price              0\n",
      "idx_consumer_confidence         0\n",
      "dtype: int64\n",
      "(45136, 14)\n",
      "LESS nans :  date                            0\n",
      "age                             0\n",
      "job_type                      157\n",
      "status                          0\n",
      "education                    1666\n",
      "balance                         0\n",
      "has_housing_loan                0\n",
      "has_perso_loan                213\n",
      "nb_contact                      0\n",
      "nb_day_last_contact             0\n",
      "subscription                    0\n",
      "employment_variation_rate       0\n",
      "idx_consumer_price              0\n",
      "idx_consumer_confidence         0\n",
      "dtype: int64\n",
      "(43876, 14)\n",
      "Model train accuracy :  0.931\n",
      "Model accuracy :  0.888\n",
      "Model precision :  0.577\n",
      "Model recall =  0.219\n",
      "Confusion Matrix : \n",
      " [[ 228  815]\n",
      " [ 167 7566]]\n",
      "Feature importance: \n",
      " [0.012 0.05  0.    0.124 0.079 0.133 0.047 0.014 0.016 0.008 0.011 0.017\n",
      " 0.135 0.075 0.171 0.108]\n",
      "AUC precision recall curve is :  0.439\n"
     ]
    },
    {
     "data": {
      "image/png": "[encoded data removed]",
      "text/plain": [
       "<Figure size 432x288 with 1 Axes>"
      ]
     },
     "metadata": {
      "needs_background": "light"
     },
     "output_type": "display_data"
    }
   ],
   "source": [
    "run /Users/cyrillemaire/Documents/Yotta/Project/productsubscription_dc_cl_js/subscription_forecast/application/main.py\n"
   ]
  },
  {
   "cell_type": "code",
   "execution_count": null,
   "id": "surprising-estimate",
   "metadata": {},
   "outputs": [],
   "source": []
  }
 ],
 "metadata": {
  "kernelspec": {
   "display_name": "Python 3",
   "language": "python",
   "name": "python3"
  },
  "language_info": {
   "codemirror_mode": {
    "name": "ipython",
    "version": 3
   },
   "file_extension": ".py",
   "mimetype": "text/x-python",
   "name": "python",
   "nbconvert_exporter": "python",
   "pygments_lexer": "ipython3",
   "version": "3.8.2"
  }
 },
 "nbformat": 4,
 "nbformat_minor": 5
}
